{
 "cells": [
  {
   "cell_type": "code",
   "execution_count": 13,
   "metadata": {},
   "outputs": [],
   "source": [
    "import numpy as np\n",
    "import pandas as pd\n",
    "import time\n",
    "import matplotlib.pyplot as plt\n",
    "from sklearn.linear_model import LinearRegression\n",
    "\n",
    "def LinReg(dataIn):\n",
    "    t = time.time_ns()\n",
    "    data=dataIn.copy()\n",
    "    Xmean = np.average(data['x'])\n",
    "    Ymean = np.average(data['y'])\n",
    "    data['XDifferences']=data['x']-Xmean\n",
    "    data['YDifferences']=data['y']-Ymean\n",
    "    data['Multiplied']=data['XDifferences']*data['YDifferences']\n",
    "    data['Squared']=data['XDifferences']**2\n",
    "    slope = np.sum(data['Multiplied'])/np.sum(data['Squared'])\n",
    "    intercept = Ymean - slope*Xmean\n",
    "    print(\"Proper Method:\")\n",
    "    print(\"Slope is \"+str(slope))\n",
    "    print(\"Intercept is \"+str(intercept))\n",
    "    data['Ypreds_MSE']=data['x']*slope +intercept\n",
    "    slope2 = (data['y'][len(data)-1]-data['y'][0])/(data['x'][len(data)-1]-data['x'][0])\n",
    "    intercept2 = data['y'][0]-slope*data['x'][0]\n",
    "    data['Ypreds_Silly']=data['x']*slope2 + intercept2\n",
    "    data.drop(['XDifferences','YDifferences', 'Multiplied','Squared' ],axis=1, inplace=True)\n",
    "    print(\"Naive Method:\")\n",
    "    print(\"Slope is \"+str(slope2))\n",
    "    print(\"Intercept is \"+str(intercept2))\n",
    "    print(\"Time is \" +str(((time.time_ns()-t))/1e9))\n",
    "    return data"
   ]
  },
  {
   "cell_type": "code",
   "execution_count": 14,
   "metadata": {},
   "outputs": [],
   "source": [
    "d={\"x\":[1,2,3,4,5], \"y\":[4,12,28, 52,80]}\n",
    "df = pd.DataFrame(data=d)"
   ]
  },
  {
   "cell_type": "code",
   "execution_count": 15,
   "metadata": {},
   "outputs": [
    {
     "name": "stdout",
     "output_type": "stream",
     "text": [
      "Proper Method:\n",
      "Slope is 19.2\n",
      "Intercept is -22.39999999999999\n",
      "Naive Method:\n",
      "Slope is 19.0\n",
      "Intercept is -15.2\n",
      "Time is 0.009974\n"
     ]
    }
   ],
   "source": [
    "data=LinReg(df)#I used dataframes throughout this, for ease of use"
   ]
  },
  {
   "cell_type": "code",
   "execution_count": 16,
   "metadata": {},
   "outputs": [
    {
     "name": "stdout",
     "output_type": "stream",
     "text": [
      "   x   y  Ypreds_MSE  Ypreds_Silly\n",
      "0  1   4        -3.2           3.8\n",
      "1  2  12        16.0          22.8\n",
      "2  3  28        35.2          41.8\n",
      "3  4  52        54.4          60.8\n",
      "4  5  80        73.6          79.8\n"
     ]
    }
   ],
   "source": [
    "print(data)"
   ]
  },
  {
   "cell_type": "code",
   "execution_count": 17,
   "metadata": {},
   "outputs": [
    {
     "name": "stdout",
     "output_type": "stream",
     "text": [
      "Time is 0.0009966\n",
      "Slope is  [[19.2]]\n",
      "Intercept is  [-22.4]\n"
     ]
    }
   ],
   "source": [
    "t=time.time_ns()\n",
    "model = LinearRegression()\n",
    "model.fit(np.array(df['x']).reshape(-1,1),np.array(df['y']).reshape(-1,1))\n",
    "print(\"Time is \" +str(((time.time_ns()-t))/1e9))# WAAAAAY faster! Even with vectorization, I can't keep up with C\n",
    "print(\"Slope is \", model.coef_)\n",
    "print(\"Intercept is \", model.intercept_)\n",
    "#The values given by both my method and the inbuilt function are essentially the same! the lines are practically indistiguishable! Only error is from floating-point calculation presicion"
   ]
  },
  {
   "cell_type": "code",
   "execution_count": 18,
   "metadata": {},
   "outputs": [
    {
     "data": {
      "text/plain": [
       "<function matplotlib.pyplot.show(*args, **kw)>"
      ]
     },
     "execution_count": 18,
     "metadata": {},
     "output_type": "execute_result"
    },
    {
     "data": {
      "image/png": "[encoded data removed]",
      "text/plain": [
       "<Figure size 432x288 with 1 Axes>"
      ]
     },
     "metadata": {
      "needs_background": "light"
     },
     "output_type": "display_data"
    }
   ],
   "source": [
    "#Data:BLUE\n",
    "plt.plot(np.array(data['x']).reshape(-1,1),np.array(data['y']).reshape(-1,1))\n",
    "#Strange Method:ORANGE\n",
    "plt.plot(np.array(data['x']).reshape(-1,1),np.array(data['Ypreds_Silly']).reshape(-1,1))#silly method using 1st and last points\n",
    "#My MSE implementation:GREEN\n",
    "plt.plot(np.array(data['x']).reshape(-1,1), np.array(data['Ypreds_MSE']).reshape(-1,1))#i'm not plotting the line from sklearn, because they would overlap. \n",
    "plt.show"
   ]
  }
 ],
 "metadata": {
  "kernelspec": {
   "display_name": "Python 3",
   "language": "python",
   "name": "python3"
  },
  "language_info": {
   "codemirror_mode": {
    "name": "ipython",
    "version": 3
   },
   "file_extension": ".py",
   "mimetype": "text/x-python",
   "name": "python",
   "nbconvert_exporter": "python",
   "pygments_lexer": "ipython3",
   "version": "3.7.3"
  }
 },
 "nbformat": 4,
 "nbformat_minor": 2
}
