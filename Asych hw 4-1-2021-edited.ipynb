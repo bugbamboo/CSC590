{
 "cells": [
  {
   "cell_type": "code",
   "execution_count": 4,
   "metadata": {},
   "outputs": [
    {
     "name": "stdout",
     "output_type": "stream",
     "text": [
      "7787\n",
      "7777\n"
     ]
    },
    {
     "ename": "AttributeError",
     "evalue": "'list' object has no attribute 'astype'",
     "output_type": "error",
     "traceback": [
      "\u001b[1;31m---------------------------------------------------------------------------\u001b[0m",
      "\u001b[1;31mAttributeError\u001b[0m                            Traceback (most recent call last)",
      "\u001b[1;32m<ipython-input-4-0b4fb0640cd2>\u001b[0m in \u001b[0;36m<module>\u001b[1;34m\u001b[0m\n\u001b[0;32m      8\u001b[0m \u001b[0mprint\u001b[0m\u001b[1;33m(\u001b[0m\u001b[0mlen\u001b[0m\u001b[1;33m(\u001b[0m\u001b[0mdf11\u001b[0m\u001b[1;33m)\u001b[0m\u001b[1;33m)\u001b[0m\u001b[1;33m\u001b[0m\u001b[1;33m\u001b[0m\u001b[0m\n\u001b[0;32m      9\u001b[0m \u001b[1;31m#convert values\u001b[0m\u001b[1;33m\u001b[0m\u001b[1;33m\u001b[0m\u001b[1;33m\u001b[0m\u001b[0m\n\u001b[1;32m---> 10\u001b[1;33m \u001b[0mdf11\u001b[0m\u001b[1;33m[\u001b[0m\u001b[1;34m'year_added'\u001b[0m\u001b[1;33m]\u001b[0m\u001b[1;33m=\u001b[0m\u001b[1;33m(\u001b[0m\u001b[0mdf11\u001b[0m\u001b[1;33m[\u001b[0m\u001b[1;34m'date_added'\u001b[0m\u001b[1;33m]\u001b[0m\u001b[1;33m.\u001b[0m\u001b[0mstr\u001b[0m\u001b[1;33m.\u001b[0m\u001b[0msplit\u001b[0m\u001b[1;33m(\u001b[0m\u001b[1;33m)\u001b[0m\u001b[1;33m[\u001b[0m\u001b[1;36m2\u001b[0m\u001b[1;33m]\u001b[0m\u001b[1;33m)\u001b[0m\u001b[1;33m.\u001b[0m\u001b[0mastype\u001b[0m\u001b[1;33m(\u001b[0m\u001b[0mint\u001b[0m\u001b[1;33m)\u001b[0m\u001b[1;33m\u001b[0m\u001b[1;33m\u001b[0m\u001b[0m\n\u001b[0m\u001b[0;32m     11\u001b[0m \u001b[1;31m#Split between TVshows and movies\u001b[0m\u001b[1;33m\u001b[0m\u001b[1;33m\u001b[0m\u001b[1;33m\u001b[0m\u001b[0m\n\u001b[0;32m     12\u001b[0m \u001b[0mTVshow\u001b[0m\u001b[1;33m=\u001b[0m \u001b[0mdf11\u001b[0m\u001b[1;33m[\u001b[0m\u001b[0mdf11\u001b[0m\u001b[1;33m[\u001b[0m\u001b[1;34m'type'\u001b[0m\u001b[1;33m]\u001b[0m\u001b[1;33m==\u001b[0m\u001b[1;34m'TV Show'\u001b[0m\u001b[1;33m]\u001b[0m\u001b[1;33m\u001b[0m\u001b[1;33m\u001b[0m\u001b[0m\n",
      "\u001b[1;31mAttributeError\u001b[0m: 'list' object has no attribute 'astype'"
     ]
    }
   ],
   "source": [
    "import pandas as pd\n",
    "#Question 11\n",
    "df11=pd.read_csv(\"netflix_titles.csv\")\n",
    "print(len(df11))\n",
    "#removes values with null, note that we only remove from the columns type,date_added, as these are the columns we use, and if we just run a dropna, we lose nearly half of our data\n",
    "df11.dropna(subset = ['type','date_added'], inplace=True)\n",
    "#check how many values were deleted\n",
    "print(len(df11))\n",
    "#convert values\n",
    "df11['year_added']=df11['date_added'].str.split()[2].astype(int)\n",
    "#Split between TVshows and movies\n",
    "TVshow= df11[df11['type']=='TV Show']\n",
    "Movie = df11[df11['type']=='Movie']\n",
    "\n",
    "print(\"Pre-2010, there were \"+str(len(TVshow[TVshow['year_added']<=2010]))+\" TV shows. From 2010-2020, \"+str(len(TVshow[TVshow['year_added']>2010]))+\" shows were added.\")\n",
    "print(\"Pre-2010, there were \"+str(len(Movie[Movie['year_added']<=2010]))+\" Movies. From 2010-2020, \"+str(len(Movie[Movie['year_added']>2010]))+\" shows were added.\")"
   ]
  },
  {
   "cell_type": "code",
   "execution_count": null,
   "metadata": {},
   "outputs": [],
   "source": [
    "import pandas as pd\n",
    "#Question 11\n",
    "df11=pd.read_csv(\"netflix_titles.csv\")\n",
    "print(len(df11))\n",
    "#removes values with null, note that we only remove from the columns type,date_added, as these are the columns we use, and if we just run a dropna, we lose nearly half of our data\n",
    "df11.dropna(subset = ['type','date_added'], inplace=True)\n",
    "#check how many values were deleted\n",
    "print(len(df11))\n",
    "#convert values\n",
    "df11['year_added']=str(df11['date_added'])[-4:].astype(int)\n",
    "#Split between TVshows and movies\n",
    "TVshow= df11[df11['type']=='TV Show']\n",
    "Movie = df11[df11['type']=='Movie']\n",
    "\n",
    "print(\"Pre-2010, there were \"+str(len(TVshow[TVshow['year_added']<=2010]))+\" TV shows. From 2010-2020, \"+str(len(TVshow[TVshow['year_added']>2010]))+\" shows were added.\")\n",
    "print(\"Pre-2010, there were \"+str(len(Movie[Movie['year_added']<=2010]))+\" Movies. From 2010-2020, \"+str(len(Movie[Movie['year_added']>2010]))+\" shows were added.\")"
   ]
  }
 ],
 "metadata": {
  "kernelspec": {
   "display_name": "Python 3",
   "language": "python",
   "name": "python3"
  },
  "language_info": {
   "codemirror_mode": {
    "name": "ipython",
    "version": 3
   },
   "file_extension": ".py",
   "mimetype": "text/x-python",
   "name": "python",
   "nbconvert_exporter": "python",
   "pygments_lexer": "ipython3",
   "version": "3.7.3"
  }
 },
 "nbformat": 4,
 "nbformat_minor": 2
}
