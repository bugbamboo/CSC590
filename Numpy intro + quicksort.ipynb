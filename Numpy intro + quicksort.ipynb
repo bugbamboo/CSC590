{
 "cells": [
  {
   "cell_type": "code",
   "execution_count": 4,
   "metadata": {},
   "outputs": [],
   "source": [
    "import numpy as np\n",
    "import time"
   ]
  },
  {
   "cell_type": "code",
   "execution_count": 5,
   "metadata": {},
   "outputs": [],
   "source": [
    "def quicksort(low,high):\n",
    "    global arr\n",
    "    if(low<high):\n",
    "        pi = partition(low, high)\n",
    "        quicksort(low, pi - 1)\n",
    "        quicksort(pi + 1, high)\n",
    "        \n",
    "def partition(low, high):\n",
    "    global arr\n",
    "    pivot = arr[high]\n",
    "    i=low-1\n",
    "    for j in range(low, high):\n",
    "        if(arr[j]<pivot):\n",
    "            i+=1\n",
    "            a=arr[j]\n",
    "            arr[j]=arr[i]\n",
    "            arr[i]=a\n",
    "    arr[high]=arr[i+1]\n",
    "    arr[i+1]=pivot\n",
    "    return (i+1)\n"
   ]
  },
  {
   "cell_type": "code",
   "execution_count": 22,
   "metadata": {},
   "outputs": [],
   "source": [
    "def speedtest(length,runs):\n",
    "    avg =np.zeros(runs)\n",
    "    global arr\n",
    "    for h in range(runs):\n",
    "        arr =np.zeros(length)\n",
    "        for n in range(length):\n",
    "            arr[n]=10000*np.random.random_sample()\n",
    "        t = time.time_ns()\n",
    "        quicksort(0,length-1)\n",
    "        avg[h]= time.time_ns()-t\n",
    "    print(np.average(avg)/1e9)"
   ]
  },
  {
   "cell_type": "code",
   "execution_count": 26,
   "metadata": {},
   "outputs": [
    {
     "name": "stdout",
     "output_type": "stream",
     "text": [
      "12.6012448\n"
     ]
    }
   ],
   "source": [
    "speedtest(1000000,1)"
   ]
  },
  {
   "cell_type": "code",
   "execution_count": 23,
   "metadata": {},
   "outputs": [
    {
     "name": "stdout",
     "output_type": "stream",
     "text": [
      "0.81032928\n"
     ]
    }
   ],
   "source": [
    "speedtest(100000,10)"
   ]
  },
  {
   "cell_type": "code",
   "execution_count": 16,
   "metadata": {},
   "outputs": [
    {
     "name": "stdout",
     "output_type": "stream",
     "text": [
      "0.06413253\n"
     ]
    }
   ],
   "source": [
    "speedtest(10000,10)"
   ]
  },
  {
   "cell_type": "code",
   "execution_count": 17,
   "metadata": {},
   "outputs": [
    {
     "name": "stdout",
     "output_type": "stream",
     "text": [
      "0.00528913\n"
     ]
    }
   ],
   "source": [
    "speedtest(1000,10)"
   ]
  },
  {
   "cell_type": "code",
   "execution_count": 18,
   "metadata": {},
   "outputs": [
    {
     "name": "stdout",
     "output_type": "stream",
     "text": [
      "0.0002992\n"
     ]
    }
   ],
   "source": [
    "speedtest(100,10)"
   ]
  },
  {
   "cell_type": "code",
   "execution_count": 19,
   "metadata": {},
   "outputs": [
    {
     "name": "stdout",
     "output_type": "stream",
     "text": [
      "0.0\n"
     ]
    }
   ],
   "source": [
    "speedtest(10,10)"
   ]
  },
  {
   "cell_type": "code",
   "execution_count": 20,
   "metadata": {},
   "outputs": [
    {
     "name": "stdout",
     "output_type": "stream",
     "text": [
      "0.0\n"
     ]
    }
   ],
   "source": [
    "speedtest(1,10)"
   ]
  },
  {
   "cell_type": "code",
   "execution_count": null,
   "metadata": {},
   "outputs": [],
   "source": []
  }
 ],
 "metadata": {
  "kernelspec": {
   "display_name": "Python 3",
   "language": "python",
   "name": "python3"
  },
  "language_info": {
   "codemirror_mode": {
    "name": "ipython",
    "version": 3
   },
   "file_extension": ".py",
   "mimetype": "text/x-python",
   "name": "python",
   "nbconvert_exporter": "python",
   "pygments_lexer": "ipython3",
   "version": "3.7.3"
  }
 },
 "nbformat": 4,
 "nbformat_minor": 2
}
